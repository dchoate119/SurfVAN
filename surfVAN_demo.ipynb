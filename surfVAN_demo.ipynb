{
 "cells": [
  {
   "cell_type": "markdown",
   "id": "d346cec7-89b3-4b94-b518-d83e6dd7ff2a",
   "metadata": {},
   "source": [
    "# Aircraft Surface Movement Demo\n",
    "\n",
    "- Dataset: Tufts univerity turf field\n",
    "- Pose estimations: Generated through COLMAP (Schonberger and Frahm, 2016)"
   ]
  },
  {
   "cell_type": "code",
   "execution_count": 1,
   "id": "16f4383e-81af-40cb-a765-977430819130",
   "metadata": {},
   "outputs": [
    {
     "ename": "ModuleNotFoundError",
     "evalue": "No module named 'groundNAV_agent'",
     "output_type": "error",
     "traceback": [
      "\u001b[0;31m---------------------------------------------------------------------------\u001b[0m",
      "\u001b[0;31mModuleNotFoundError\u001b[0m                       Traceback (most recent call last)",
      "Cell \u001b[0;32mIn[1], line 1\u001b[0m\n\u001b[0;32m----> 1\u001b[0m \u001b[38;5;28;01mfrom\u001b[39;00m \u001b[38;5;21;01mgroundNAV_agent\u001b[39;00m \u001b[38;5;28;01mimport\u001b[39;00m \u001b[38;5;241m*\u001b[39m\n",
      "\u001b[0;31mModuleNotFoundError\u001b[0m: No module named 'groundNAV_agent'"
     ]
    }
   ],
   "source": [
    "from groundNAV_agent import *"
   ]
  },
  {
   "cell_type": "code",
   "execution_count": null,
   "id": "375115da-60e6-4dc5-9067-5d5037a39cec",
   "metadata": {},
   "outputs": [],
   "source": []
  }
 ],
 "metadata": {
  "kernelspec": {
   "display_name": "Python 3 (ipykernel)",
   "language": "python",
   "name": "python3"
  },
  "language_info": {
   "codemirror_mode": {
    "name": "ipython",
    "version": 3
   },
   "file_extension": ".py",
   "mimetype": "text/x-python",
   "name": "python",
   "nbconvert_exporter": "python",
   "pygments_lexer": "ipython3",
   "version": "3.9.18"
  }
 },
 "nbformat": 4,
 "nbformat_minor": 5
}
