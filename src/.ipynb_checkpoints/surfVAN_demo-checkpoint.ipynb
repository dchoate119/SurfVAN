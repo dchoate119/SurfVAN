{
 "cells": [
  {
   "cell_type": "markdown",
   "id": "d346cec7-89b3-4b94-b518-d83e6dd7ff2a",
   "metadata": {},
   "source": [
    "# Aircraft Surface Positioning Pipeline Demo\n",
    "\n",
    "- Dataset: Tufts univerity turf field\n",
    "- Pose estimations: Generated through COLMAP (Schonberger and Frahm, 2016)\n",
    "\n",
    "\n",
    "\n",
    "NOTES:\n",
    "- All 'Visualizer' steps are for visualization purposes only, can be commented out\n",
    "- Recommended to start with 5 local images, as solution with 10 images begins to drift (see paper for details)"
   ]
  },
  {
   "cell_type": "code",
   "execution_count": 1,
   "id": "16f4383e-81af-40cb-a765-977430819130",
   "metadata": {},
   "outputs": [
    {
     "name": "stderr",
     "output_type": "stream",
     "text": [
      "/home/daniel-choate/miniconda3/envs/py39/lib/python3.9/site-packages/dash/dash.py:23: UserWarning: pkg_resources is deprecated as an API. See https://setuptools.pypa.io/en/latest/pkg_resources.html. The pkg_resources package is slated for removal as early as 2025-11-30. Refrain from using this package or pin to Setuptools<81.\n",
      "  from pkg_resources import get_distribution, parse_version\n"
     ]
    },
    {
     "name": "stdout",
     "output_type": "stream",
     "text": [
      "Jupyter environment detected. Enabling Open3D WebVisualizer.\n",
      "[Open3D INFO] WebRTC GUI backend enabled.\n",
      "[Open3D INFO] WebRTCWindowSystem: HTTP handshake server disabled.\n"
     ]
    }
   ],
   "source": [
    "from groundNAV_agent import *\n",
    "from pathlib import Path"
   ]
  },
  {
   "cell_type": "markdown",
   "id": "323fcc8f-4a87-4b49-8925-d2d76d5b4893",
   "metadata": {},
   "source": [
    "## Input files: \n",
    "- SfM solution (3)\n",
    "    - Images\n",
    "    - Cameras\n",
    "    - 3D Cloud\n",
    "- Local Images for registration (10)\n",
    "- Satellite reference image (1)"
   ]
  },
  {
   "cell_type": "code",
   "execution_count": 2,
   "id": "26f7ba4a-815f-4fab-a3d4-8c242e05c9cf",
   "metadata": {},
   "outputs": [],
   "source": [
    "# SfM files \n",
    "images_colm = '../sample_data/SfM_soln/images.txt'\n",
    "cameras_colm = '../sample_data/SfM_soln/cameras.txt'\n",
    "pts3d_colm = '../sample_data/SfM_soln/points3D_f.txt'\n",
    "\n",
    "# Local images - folder\n",
    "# im_local = '../sample_data/local_imgs_10' # With 10 local images \n",
    "im_local = '../sample_data/local_imgs_5' # With 5 local images\n",
    "\n",
    "# Satellite reference image\n",
    "sat_ref = '../sample_data/TurfSat.jpg'"
   ]
  },
  {
   "cell_type": "code",
   "execution_count": 3,
   "id": "aba3f487-df7f-4c72-b355-728fc9d02727",
   "metadata": {},
   "outputs": [],
   "source": [
    "# Create class \n",
    "gnav = gNAV_agent(images_colm, cameras_colm, pts3d_colm, im_local, sat_ref)"
   ]
  },
  {
   "cell_type": "markdown",
   "id": "e064c7bc-1edd-4642-816c-3615e17e9fb2",
   "metadata": {},
   "source": [
    "___________________________________\n",
    "### Visualizer (1)\n",
    "- Initial pose estimation and sparse point cloud"
   ]
  },
  {
   "cell_type": "code",
   "execution_count": 4,
   "id": "0682f050-4623-492a-931c-01a3c20c3985",
   "metadata": {},
   "outputs": [],
   "source": [
    "# # Visualize the sparse scene and camera poses generated through SfM \n",
    "\n",
    "# vis = o3d.visualization.Visualizer()\n",
    "# vis.create_window(window_name = \"Pose estimations and sparse cloud: SfM COORDINATES (not absolute)\")\n",
    "\n",
    "# gnav.pose_scene_visualization(vis)"
   ]
  },
  {
   "cell_type": "markdown",
   "id": "426871db-5743-4614-b94f-9fb5079edf9e",
   "metadata": {},
   "source": [
    "__________________________________________"
   ]
  },
  {
   "cell_type": "markdown",
   "id": "d9c8c694-3e72-445b-a2bc-dd7e77554087",
   "metadata": {},
   "source": [
    "## Set Reference Frame "
   ]
  },
  {
   "cell_type": "code",
   "execution_count": 5,
   "id": "c9046b2f-429e-4aae-9148-1a7dcdefa344",
   "metadata": {},
   "outputs": [
    {
     "name": "stdout",
     "output_type": "stream",
     "text": [
      "\n",
      "Reference frame transformation\n",
      " [[-1.55069060e-03  9.81197008e-01  1.93002661e-01 -1.21025836e-01]\n",
      " [-1.42845166e-01 -1.91240997e-01  9.71093270e-01  1.86102525e+00]\n",
      " [ 9.89743833e-01 -2.60636319e-02  1.40455805e-01  7.28134156e-01]\n",
      " [ 0.00000000e+00  0.00000000e+00  0.00000000e+00  1.00000000e+00]]\n"
     ]
    }
   ],
   "source": [
    "# Set reference frame - transform to ground-parallel coordinate frame \n",
    "tform_ref_frame = gnav.set_ref_frame(gnav.pts_gnd_idx)\n",
    "tform_ref_frame_pts = gnav.inv_homog_transform(tform_ref_frame)\n",
    "print(\"\\nReference frame transformation\\n\", tform_ref_frame_pts)\n",
    "\n",
    "# Transfer all points to new coordinate system\n",
    "origin_ref, scene_pts_ref, scene_vec_ref = gnav.unit_vec_tform(gnav.scene_pts, gnav.origin_w, tform_ref_frame_pts)"
   ]
  },
  {
   "cell_type": "markdown",
   "id": "9ae6bd9c-86fd-4200-b40a-5757928a8a5a",
   "metadata": {},
   "source": [
    "____________________________________\n",
    "### Visualizer (2)\n",
    "\n",
    "- Sparse point cloud in NEW (ground-referenced) frame"
   ]
  },
  {
   "cell_type": "code",
   "execution_count": 6,
   "id": "9ebf459c-5379-407c-a36b-3501fa55c31e",
   "metadata": {},
   "outputs": [],
   "source": [
    "# # Visualize the sparse scene and camera poses generated through SfM \n",
    "\n",
    "# vis = o3d.visualization.Visualizer()\n",
    "# vis.create_window(window_name = \"Sparse cloud: ground-reference coords\")\n",
    "\n",
    "# gnav.pose_scene_visualization_ref(vis, scene_pts_ref)"
   ]
  },
  {
   "cell_type": "markdown",
   "id": "671da132-461e-4f62-8424-659ab528dd51",
   "metadata": {},
   "source": [
    "__________________________________________________________"
   ]
  },
  {
   "cell_type": "markdown",
   "id": "950c5ab7-1e5e-4ee4-9f85-fcf937d9c68a",
   "metadata": {},
   "source": [
    "## Image Mosaic Formulation"
   ]
  },
  {
   "cell_type": "code",
   "execution_count": 7,
   "id": "fe3b497a-7285-4c97-b998-3589e7371ff0",
   "metadata": {},
   "outputs": [],
   "source": [
    "# Import mosaic parameters - arbitrarily obtained, can be modified\n",
    "mosaic_params = np.load('../sample_data/GP_sections/mosaic_params.npy')\n",
    "# Grab specified image points from local images \n",
    "gnav.grab_image_pts_tot(mosaic_params)"
   ]
  },
  {
   "cell_type": "markdown",
   "id": "df9f9373-774e-4727-8fd5-c455f1c1528b",
   "metadata": {},
   "source": [
    "____________________________________________\n",
    "### Visualizer (3)\n",
    "\n",
    "- Ground plane sections from 2D image to be used for mosaic"
   ]
  },
  {
   "cell_type": "code",
   "execution_count": 8,
   "id": "8dfc3b45-8682-45fe-b671-1ff58cd0d88b",
   "metadata": {},
   "outputs": [],
   "source": [
    "# plt.figure(figsize=(15,8))\n",
    "# gnav.plot_gnd_pts()"
   ]
  },
  {
   "cell_type": "markdown",
   "id": "4d791563-f535-4483-811e-84bfdaf77e28",
   "metadata": {},
   "source": [
    "_________________________________________________________"
   ]
  },
  {
   "cell_type": "markdown",
   "id": "ad740905-3b4a-48d0-b39d-fb5b4ab14895",
   "metadata": {},
   "source": [
    "## Image mosaic formulation stages \n",
    "1. Create unit vectors in camera coordinates\n",
    "2. Grab transformation matrix (camera to world (SfM) coords)\n",
    "3. Transform to world (SfM) coords\n",
    "4. Projection on ground plane\n",
    "5. Transform to ground-referenced plane"
   ]
  },
  {
   "cell_type": "code",
   "execution_count": 9,
   "id": "eb77f5f5-e7e6-4fac-8b35-dd398f38f60d",
   "metadata": {},
   "outputs": [
    {
     "name": "stdout",
     "output_type": "stream",
     "text": [
      "\n",
      "Done image  0\n",
      "\n",
      "Done image  1\n",
      "\n",
      "Done image  2\n",
      "\n",
      "Done image  3\n",
      "\n",
      "Done image  4\n"
     ]
    }
   ],
   "source": [
    "# Generate projection of image sections \n",
    "for i in range(len(gnav.images_dict)):\n",
    "    # STEP 1: Unit vectors in camera coords \n",
    "    pts_vec_c, pts_rgb_gnd = gnav.unit_vec_c(i)\n",
    "    gnav.im_mosaic[i] = {'rgbc': pts_rgb_gnd}\n",
    "\n",
    "    # STEP 2: Transformation matrix moves from camera coords to world coords\n",
    "    id = gnav.im_ids[i]\n",
    "    homog_w2c, homog_c2w = gnav.get_pose_id(id,i)\n",
    "    # print('Homogeneous transformation from world to camera \\n', homog_c2w)\n",
    "    # print('\\n Homogeneous transformation from camera to world \\n', homog_w2c)\n",
    "\n",
    "    # STEP 3: Transform to world coords\n",
    "    origin_c, pts_loc_w, pts_vec_w = gnav.unit_vec_tform(pts_vec_c, gnav.origin_w, homog_c2w)\n",
    "    # print('\\n New camera frame origin = ', origin_c)\n",
    "    \n",
    "    # STEP 4: Get new points \n",
    "    ranges, new_pts_w = gnav.pt_range(pts_vec_w, homog_c2w, origin_c, i)\n",
    "    # print('\\nNew Points \\n', new_pts_w)\n",
    "\n",
    "    # STEP 5: Transfer points to reference frame\n",
    "    __, new_pts_r, pts_vec_r = gnav.unit_vec_tform(new_pts_w, gnav.origin_w, tform_ref_frame_pts)\n",
    "\n",
    "    # Convert points to grayscale \n",
    "    gray_c = gnav.conv_to_gray(gnav.im_mosaic[i]['rgbc'],i)\n",
    "    # print(gray_c)\n",
    "\n",
    "    # Put new points and grayscale colors in image mosaic\n",
    "    gnav.im_mosaic[i]['pts'] = new_pts_r\n",
    "    gnav.im_mosaic[i]['color_g'] = gray_c\n",
    "    \n",
    "    print(\"\\nDone image \", i)"
   ]
  },
  {
   "cell_type": "markdown",
   "id": "7dada9cf-032d-49e2-a79d-e5c435b6bbbe",
   "metadata": {},
   "source": [
    "_____________________________________\n",
    "### Visualizer (4)\n",
    "\n",
    "- Image mosaic formulation"
   ]
  },
  {
   "cell_type": "code",
   "execution_count": 10,
   "id": "e0edd112-da04-4ad6-8190-37a77046f720",
   "metadata": {},
   "outputs": [],
   "source": [
    "# # Create visualization\n",
    "# vis = o3d.visualization.Visualizer()\n",
    "# vis.create_window(window_name=\"Image mosaic formulation\")\n",
    "\n",
    "# gnav.mosaic_visualization(vis)"
   ]
  },
  {
   "cell_type": "markdown",
   "id": "2b5b4512-7ba4-4b61-b6f4-f9b76b7adf0f",
   "metadata": {},
   "source": [
    "________________________________________"
   ]
  },
  {
   "cell_type": "markdown",
   "id": "61e4cb87-17c6-472c-bdc8-f482eb08e4ae",
   "metadata": {},
   "source": [
    "## Implement initial guess\n",
    "\n",
    "- Initial guess to be fed into least squares process\n",
    "- Must be good enough to allow convergence\n",
    "\n",
    "### 4 DOF Solution\n",
    "\n",
    "The state equation includes the following variables:\n",
    "\n",
    "- **x**: position along the x-axis  \n",
    "- **y**: position along the y-axis  \n",
    "- **$\\boldsymbol{\\theta}$**: heading (yaw angle)\n",
    "- **s**: scale factor\n",
    "\n",
    "**State vector:**  \n",
    "$x = [x,\\ y,\\ \\theta, s]$"
   ]
  },
  {
   "cell_type": "code",
   "execution_count": 11,
   "id": "6f18c347-d432-45c1-97b3-34374276ebf3",
   "metadata": {},
   "outputs": [],
   "source": [
    "# Initial guess parameters \n",
    "# 5 image solution\n",
    "scale, yaw, x_g, y_g = 80, np.deg2rad(140), -52, 20\n",
    "\n",
    "tform_guess = gnav.tform_create(x_g,y_g,0,0,0,yaw)\n",
    "gnav.best_guess_tform = tform_guess\n",
    "gnav.best_guess_scale = scale\n",
    "\n",
    "# Implement\n",
    "gnav.implement_guess(gnav.best_guess_tform, gnav.best_guess_scale)"
   ]
  },
  {
   "cell_type": "markdown",
   "id": "519f8f2a-116a-43b8-9fe3-99c45c370242",
   "metadata": {},
   "source": [
    "__________________________________________________\n",
    "### Visualizer (5)\n",
    "\n",
    "- Mosaic with reference satellite map (with initial guess)"
   ]
  },
  {
   "cell_type": "code",
   "execution_count": 12,
   "id": "be7a511f-9286-4c9e-a5ca-e9c835f6e124",
   "metadata": {},
   "outputs": [
    {
     "name": "stderr",
     "output_type": "stream",
     "text": [
      "libGL: Can't open configuration file /etc/drirc: No such file or directory.\n",
      "libGL: Can't open configuration file /home/daniel-choate/.drirc: No such file or directory.\n",
      "using driver i915 for 73\n",
      "libGL: Can't open configuration file /etc/drirc: No such file or directory.\n",
      "libGL: Can't open configuration file /home/daniel-choate/.drirc: No such file or directory.\n",
      "using driver i915 for 73\n",
      "pci id for fd 73: 8086:a7a0, driver iris\n",
      "libGL: Can't open configuration file /etc/drirc: No such file or directory.\n",
      "libGL: Can't open configuration file /home/daniel-choate/.drirc: No such file or directory.\n",
      "libGL: Can't open configuration file /etc/drirc: No such file or directory.\n",
      "libGL: Can't open configuration file /home/daniel-choate/.drirc: No such file or directory.\n",
      "libGL: Can't open configuration file /etc/drirc: No such file or directory.\n",
      "libGL: Can't open configuration file /home/daniel-choate/.drirc: No such file or directory.\n",
      "Using DRI3 for screen 0\n"
     ]
    }
   ],
   "source": [
    "# Create visualization\n",
    "vis = o3d.visualization.Visualizer()\n",
    "vis.create_window(window_name=\"Image mosaic with reference map (initial guess)\")\n",
    "\n",
    "gnav.mosaic_w_ref_visualization(vis)"
   ]
  },
  {
   "cell_type": "markdown",
   "id": "9d5949be-aed5-4e89-aa1f-f359e15d523f",
   "metadata": {},
   "source": [
    "_________________________________________"
   ]
  },
  {
   "cell_type": "markdown",
   "id": "89454fbf-033d-4170-b944-5ea30c7111e0",
   "metadata": {},
   "source": [
    "## Least squares optimization\n",
    "\n",
    "### SSD measurements\n",
    "- A sum of squared differences (SSD) of intensities is used as a residual measurement for the least squares optimization \n",
    "- Based on pixel shifts of an nxn grid (see paper)\n",
    "- Default n = 5: balancing runtime and accuracy\n",
    "\n",
    "### Convergence\n",
    "- See paper for jacobian construction details\n",
    "- Note: different initial guesses will require varied amounts of iterations to reach convergence"
   ]
  },
  {
   "cell_type": "code",
   "execution_count": 13,
   "id": "d29899c2-df0b-482a-963f-4773c7e73fc0",
   "metadata": {},
   "outputs": [
    {
     "name": "stdout",
     "output_type": "stream",
     "text": [
      "Number of points used for image 0:  (1007,)\n",
      "Number of points used for image 1:  (637,)\n",
      "Number of points used for image 2:  (2821,)\n",
      "Number of points used for image 3:  (719,)\n",
      "Number of points used for image 4:  (4748,)\n",
      "Here is y_i for iteration 0:\n",
      " [[-2.]\n",
      " [ 5.]\n",
      " [-7.]\n",
      " [-4.]\n",
      " [-5.]\n",
      " [ 3.]\n",
      " [-4.]\n",
      " [ 4.]\n",
      " [ 1.]\n",
      " [ 3.]]\n",
      "\n",
      "JACOBIAN\n",
      " [[ 7.86600947e+01 -1.90098746e+03  1.00000000e+00  0.00000000e+00]\n",
      " [ 2.37623433e+01  6.29280757e+03  0.00000000e+00  1.00000000e+00]\n",
      " [-6.22606819e+01  3.81070520e+02  1.00000000e+00  0.00000000e+00]\n",
      " [-4.76338151e+00 -4.98085455e+03  0.00000000e+00  1.00000000e+00]\n",
      " [-2.01920365e+00 -6.89483664e+03  1.00000000e+00  0.00000000e+00]\n",
      " [ 8.61854580e+01 -1.61536292e+02  0.00000000e+00  1.00000000e+00]\n",
      " [ 4.07330064e+01 -5.12409307e+03  1.00000000e+00  0.00000000e+00]\n",
      " [ 6.40511634e+01  3.25864051e+03  0.00000000e+00  1.00000000e+00]\n",
      " [ 2.56187829e+01  8.86688749e+03  1.00000000e+00  0.00000000e+00]\n",
      " [-1.10836094e+02  2.04950263e+03  0.00000000e+00  1.00000000e+00]]\n",
      "\n",
      "Delta Alpha:\n",
      " [[ 1.77417099e-02]\n",
      " [ 4.71281022e-04]\n",
      " [-3.24610360e+00]\n",
      " [ 1.38401930e+00]]\n",
      "\n",
      "Updated Params: scale, theta, tq, tp\n",
      " [[ 80.01774171]\n",
      " [  2.44393223]\n",
      " [-55.2461036 ]\n",
      " [ 21.3840193 ]]\n",
      "\n",
      "Transformation matrix\n",
      " [[ -0.76634729  -0.64242652   0.         -55.2461036 ]\n",
      " [  0.64242652  -0.76634729   0.          21.3840193 ]\n",
      " [  0.           0.           1.           0.        ]\n",
      " [  0.           0.           0.           1.        ]]\n"
     ]
    }
   ],
   "source": [
    "# Initialize pixel search threshold and iterations\n",
    "n = 10 # Pixel search threshold\n",
    "iterations = 1\n",
    "\n",
    "# Set initial guess parameters\n",
    "s, theta, tp, tq = scale, yaw, x_g, y_g\n",
    "gnav.params_best_guess = np.array([scale, theta, tp, tq]).reshape(4,1)\n",
    "\n",
    "# Results in parameters best guess \n",
    "params_best_guess = gnav.mapmatch_lsquares(n, iterations, gnav.params_best_guess)"
   ]
  },
  {
   "cell_type": "code",
   "execution_count": 13,
   "id": "13bfa894-8cef-4204-b797-56fd76ced151",
   "metadata": {},
   "outputs": [],
   "source": [
    "# # Start by testing a single SSD\n",
    "\n",
    "# n = 10\n",
    "# # for imnum in range(len(images)):\n",
    "# # Just for the first image for now \n",
    "# for imnum in range(0, 1, 1):\n",
    "#     print(imnum)\n",
    "#     ssds = gnav.ssd_nxn(n, imnum)\n",
    "#     gnav.ssds_curr[imnum] = ssds\n",
    "# # print(\"Done, most recent SSDs are\\n\", ssds)"
   ]
  },
  {
   "cell_type": "code",
   "execution_count": 14,
   "id": "212d78b9-5c01-4a0a-a7fa-d7f89d854b57",
   "metadata": {},
   "outputs": [],
   "source": [
    "# # PLOT SSDS\n",
    "# # Plot and visualize SSD values (was originally used in LSquares Loop \n",
    "\n",
    "# # Create a 5x5 grid of x and y coordinates\n",
    "# x = np.linspace(-n, n, 2*n+1)\n",
    "# y = np.linspace(-n, n, 2*n+1)\n",
    "# Y, X = np.meshgrid(x, y)\n",
    "# # print(ssds)\n",
    "\n",
    "# # print(x)\n",
    "# # print(X)\n",
    "# # print(Y)\n",
    "# i = 0\n",
    "# # Best shift\n",
    "# idrow, idcol = np.unravel_index(np.argmin(gnav.ssds_curr[i]), ssds.shape)\n",
    "# print(idrow, idcol)\n",
    "# shiftx_min = idrow-n\n",
    "# shifty_min = idcol-n\n",
    "# # print(\"BEST SHIFT = \", shiftx_min, shifty_min)\n",
    "# # print(\"BEST SSD = \", SSDS_CURR[i][idrow, idcol])\n",
    "\n",
    "# # PLOTTING A SINGLE VECTOR FIELD FOR SSD\n",
    "# # Create the figure and 3D axis\n",
    "# %matplotlib qt\n",
    "# fig = plt.figure()\n",
    "# ax = fig.add_subplot(111, projection='3d')\n",
    "\n",
    "# # Plot the 3D vectors\n",
    "# ax.quiver(X, Y, np.zeros_like(gnav.ssds_curr[i]), np.zeros_like(gnav.ssds_curr[i]), np.zeros_like(gnav.ssds_curr[i]), (gnav.ssds_curr[i]/1000)**2, arrow_length_ratio=0.1)\n",
    "\n",
    "# # Set axis limits\n",
    "# ax.set_xlim([-11, 11])  # X axis range\n",
    "# ax.set_ylim([-11, 11])  # Y axis range\n",
    "# ax.set_zlim([0, (np.max(gnav.ssds_curr[i]) / 1000)**2])  # Z axis range, adjust based on your data\n",
    "\n",
    "# # Labels and title\n",
    "# ax.set_xlabel('X')\n",
    "# ax.set_ylabel('Y')\n",
    "# ax.set_zlabel('Z')\n",
    "# ax.set_title('Pixel Correction Vector Field')"
   ]
  },
  {
   "cell_type": "code",
   "execution_count": 15,
   "id": "32cae827-857a-4aea-9f0d-102cab54304a",
   "metadata": {},
   "outputs": [],
   "source": [
    "# iterations = 1\n",
    "# n = 10\n",
    "# extend = 0\n",
    "    \n",
    "# for iter_idx in range(iterations):\n",
    "#     # Loop through full set of images\n",
    "#     for imnum in range(len(gnav.images_dict)):\n",
    "#         ssds = gnav.ssd_nxn(n, imnum)\n",
    "#         gnav.ssds_curr[imnum] = ssds\n",
    "        \n",
    "#     # print(\"Most recent SSDs\\n\", ssds)\n",
    "    \n",
    "\n",
    "    \n",
    "    \n",
    "#     # Create a vector from the original position to the minimum SSD location \n",
    "#     cor_vecs = np.zeros((len(gnav.images_dict), 2))\n",
    "#     base_vec = np.zeros((len(gnav.images_dict), 2))\n",
    "#     for im_cv in range(len(gnav.images_dict)):\n",
    "#     # for imnum in range(1):\n",
    "#         # Grab SSDs - get id of minimum\n",
    "#         ssds = gnav.ssds_curr[im_cv]\n",
    "#         # print(f\"\\nSSDS for image {i}\\n\", ssds)\n",
    "#         idrow, idcol = np.unravel_index(np.argmin(ssds), ssds.shape)\n",
    "#         # print(\"\\nidrow, idcol\\n\", idrow, idcol)\n",
    "#         # Define best shift vector \n",
    "#         shiftx_min = idrow-n\n",
    "#         shifty_min = idcol-n\n",
    "#         # CHECK IF MIN SSD IS ON EDGE\n",
    "#         if shiftx_min == n or shifty_min == n:\n",
    "#             print(f\"\\n Need to extend search of image {im_cv}\\n\")\n",
    "#             print(f\"\\n Current shift vector = {shiftx_min, shifty_min}\\n\")\n",
    "#             ssds = gnav.ssd_nxn(n+extend, im_cv)\n",
    "#             gnav.ssds_curr[im_cv] = ssds\n",
    "#             idrow, idcol = np.unravel_index(np.argmin(ssds), ssds.shape)\n",
    "#             shiftx_min = idrow-(n+extend)\n",
    "#             shifty_min = idcol-(n+extend)\n",
    "#             print(f\"\\n New shift vector = {shiftx_min, shifty_min}\\n\")\n",
    "            \n",
    "        \n",
    "#         # print(\"\\nBEST SHIFT VECTOR = \", shiftx_min, shifty_min)\n",
    "#         # print(f\"\\nBEST SSD for image {im_cv} = \", ssds[idrow, idcol])\n",
    "#         cor_vecs[im_cv] = shiftx_min, shifty_min\n",
    "#         # Get mean of satellite points for base of x and y\n",
    "#         sat_pts, __ = gnav.get_inside_sat_pts(im_cv, 0,0)#shiftx_min, shifty_min)\n",
    "#         # print(\"\\nInside satellite points\\n\", sat_pts)\n",
    "#         basex, basey = np.mean(sat_pts[:,0]), np.mean(sat_pts[:,1])\n",
    "#         # print(\"\\nBase of x and y = \", basex, basey)\n",
    "#         base_vec[im_cv] = basex, basey\n",
    "    \n",
    "#     # print(\"\\nCorrection vectors:\\n\", cor_vecs)\n",
    "#     # print(\"\\nBase of correction vectors: \\n\", base_vec)\n",
    "    \n",
    "#     points_b = np.hstack((base_vec, np.zeros((len(gnav.images_dict), 1))))\n",
    "#     points_e = points_b + np.hstack((cor_vecs, np.zeros((len(gnav.images_dict),1))))\n",
    "#     points = np.vstack((points_b, points_e))\n",
    "#     # print(\"\\nBeginning of points: \\n\", points_b)\n",
    "#     # print(\"\\nEnd of points: \\n\",points_e)\n",
    "#     # print(\"\\nAll points: \\n\",points)\n",
    "#     # lines = []\n",
    "#     # for lin in range(len(images)):\n",
    "#     #     lines.append([lin,lin+len(images)])\n",
    "#     #     # print(lin, lin+len(images))\n",
    "    \n",
    "#     # print(\"\\nLines for OPEN3d:\\n\",lines)\n",
    "    \n",
    "#     # Delta y term\n",
    "#     # print(cor_vecs.reshape(-1,1))\n",
    "#     yi = cor_vecs.reshape(-1,1)\n",
    "#     print(\"\\nYi\\n\", yi)\n",
    "    \n",
    "    \n",
    "    \n",
    "    \n",
    "    \n",
    "#     # Form jacobian for each image\n",
    "#     J = np.zeros((2*len(gnav.images_dict),4))\n",
    "#     theta = params[1][0]\n",
    "#     s = params[0][0]\n",
    "#     # print(J)\n",
    "#     for i_m in range(len(gnav.images_dict)):\n",
    "#         xpi = np.mean(gnav.im_pts_best_guess[i_m]['pts'][:,0])\n",
    "#         xqi = np.mean(gnav.im_pts_best_guess[i_m]['pts'][:,1])\n",
    "#         # print(xpi, xqi)\n",
    "#         # Jacobian values (2x4)\n",
    "#         j11 = np.cos(theta)*xpi - np.sin(theta)*xqi\n",
    "#         j21 = np.sin(theta)*xpi + np.cos(theta)*xqi\n",
    "#         j12 = -params[0][0]*(np.sin(theta)*xpi + np.cos(theta)*xqi)\n",
    "#         j22 = params[0][0]*(np.cos(theta)*xpi - np.sin(theta)*xqi)\n",
    "#         j13, j23, j14, j24 = 1, 0, 0, 1\n",
    "#         # print(j13)\n",
    "    \n",
    "#         # Construct Jacobian \n",
    "#         J_upper = np.hstack((j11, j12, j13, j14))  # First row block (y_p terms)\n",
    "#         # print(\"\\nJ Upper\\n\", J_upper)\n",
    "#         J_lower = np.hstack((j21, j22, j23, j24))  # Second row block (y_q terms)\n",
    "#         # print(\"\\nJ Lower\\n\", J_lower)\n",
    "#         j = np.vstack((J_upper, J_lower))  # Shape (2N, 4)\n",
    "#         # print(\"\\nJacobian\\n\", j)\n",
    "#         J[2*(i_m):2*(i_m)+2, :] = j\n",
    "    \n",
    "#     print(\"\\nJACOBIAN\\n\", J)\n",
    "#     # print(\"\\nJacobian shape: \", J.shape)\n",
    "    \n",
    "#     # Least squares process\n",
    "#     JTJi = np.linalg.inv(J.T@J)\n",
    "#     Dalpha = JTJi@J.T@yi\n",
    "#     print(\"\\nDelta Alpha:\\n\", Dalpha)\n",
    "    \n",
    "    \n",
    "    \n",
    "#     params += Dalpha\n",
    "#     print(\"\\nUpdated Params: scale, theta, tq, tp\\n\", params)\n",
    "    \n",
    "    \n",
    "    \n",
    "#     # Apply change\n",
    "#     tform_mat = gnav.tform_create(params[2][0], params[3][0], 0, 0, 0, params[1][0]) # x,y,z,roll,pitch,yaw\n",
    "#     print(\"\\nTransformation matrix\\n\", tform_mat)\n",
    "    \n",
    "    \n",
    "#     # for i_c in range(len(images)):\n",
    "#     # # Just for the first image for now\n",
    "#     # # for i in range(1):\n",
    "#     #     loc_im_pts = gnav.im_mosaic[i_c]['pts'].copy()\n",
    "#     #     # print(loc_im_pts)\n",
    "#     #     loc_im_pts[:, :2] *= params[0][0].astype(np.float64)\n",
    "#     #     # Get new points \n",
    "#     #     __, loc_im_pts_NEW, __ = gnav.unit_vec_tform(loc_im_pts, gnav.origin_w, tform_mat)\n",
    "#     #     gnav.im_pts_best_guess[i_c]['pts'] = loc_im_pts_NEW\n",
    "#     #     # gnav.im_pts_best_guess[i]['tree'] = cKDTree(loc_im_pts_guess) # UNECESSARY \n",
    "    \n",
    "#     #     # print(\"\\nDone image \", i)"
   ]
  }
 ],
 "metadata": {
  "kernelspec": {
   "display_name": "Python 3 (ipykernel)",
   "language": "python",
   "name": "python3"
  },
  "language_info": {
   "codemirror_mode": {
    "name": "ipython",
    "version": 3
   },
   "file_extension": ".py",
   "mimetype": "text/x-python",
   "name": "python",
   "nbconvert_exporter": "python",
   "pygments_lexer": "ipython3",
   "version": "3.9.18"
  }
 },
 "nbformat": 4,
 "nbformat_minor": 5
}
