{
 "cells": [
  {
   "cell_type": "markdown",
   "id": "d346cec7-89b3-4b94-b518-d83e6dd7ff2a",
   "metadata": {},
   "source": [
    "# Aircraft Surface Movement Demo\n",
    "\n",
    "- Dataset: Tufts univerity turf field\n",
    "- Pose estimations: Generated through COLMAP (Schonberger and Frahm, 2016)"
   ]
  },
  {
   "cell_type": "code",
   "execution_count": 1,
   "id": "16f4383e-81af-40cb-a765-977430819130",
   "metadata": {},
   "outputs": [
    {
     "name": "stdout",
     "output_type": "stream",
     "text": [
      "Jupyter environment detected. Enabling Open3D WebVisualizer.\n",
      "[Open3D INFO] WebRTC GUI backend enabled.\n",
      "[Open3D INFO] WebRTCWindowSystem: HTTP handshake server disabled.\n"
     ]
    }
   ],
   "source": [
    "from groundNAV_agent import *\n",
    "from pathlib import Path"
   ]
  },
  {
   "cell_type": "markdown",
   "id": "323fcc8f-4a87-4b49-8925-d2d76d5b4893",
   "metadata": {},
   "source": [
    "## Input files: \n",
    "- SfM solution (3)\n",
    "    - Images\n",
    "    - Cameras\n",
    "    - 3D Cloud\n",
    "- Local Images for registration (10)\n",
    "- Satellite reference image (1)"
   ]
  },
  {
   "cell_type": "code",
   "execution_count": 2,
   "id": "26f7ba4a-815f-4fab-a3d4-8c242e05c9cf",
   "metadata": {},
   "outputs": [],
   "source": [
    "# SfM files \n",
    "images_colm = 'sample_data/SfM_soln/images.txt'\n",
    "cameras_colm = 'sample_data/SfM_soln/cameras.txt'\n",
    "pts3d_colm = 'sample_data/SfM_soln/points3D_f.txt'\n",
    "\n",
    "# Local images - folder\n",
    "im_local = 'sample_data/local_imgs'\n",
    "\n",
    "# Satellite reference image\n",
    "sat_ref = 'sample_data/TurfSat.jpg'"
   ]
  },
  {
   "cell_type": "code",
   "execution_count": 3,
   "id": "aba3f487-df7f-4c72-b355-728fc9d02727",
   "metadata": {},
   "outputs": [],
   "source": [
    "# Create class \n",
    "gnav = gNAV_agent(images_colm, cameras_colm, pts3d_colm, im_local, sat_ref)"
   ]
  },
  {
   "cell_type": "code",
   "execution_count": null,
   "id": "ca1c728c-eae6-44bd-8610-aa55938cf983",
   "metadata": {},
   "outputs": [],
   "source": []
  }
 ],
 "metadata": {
  "kernelspec": {
   "display_name": "Python 3 (ipykernel)",
   "language": "python",
   "name": "python3"
  },
  "language_info": {
   "codemirror_mode": {
    "name": "ipython",
    "version": 3
   },
   "file_extension": ".py",
   "mimetype": "text/x-python",
   "name": "python",
   "nbconvert_exporter": "python",
   "pygments_lexer": "ipython3",
   "version": "3.9.18"
  }
 },
 "nbformat": 4,
 "nbformat_minor": 5
}
